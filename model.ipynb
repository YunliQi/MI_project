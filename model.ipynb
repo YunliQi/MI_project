{
 "cells": [
  {
   "cell_type": "markdown",
   "metadata": {},
   "source": [
    "## Setup"
   ]
  },
  {
   "cell_type": "code",
   "execution_count": 7,
   "metadata": {},
   "outputs": [],
   "source": [
    "import os\n",
    "from PIL import Image\n",
    "import shutil\n",
    "from batchgenerators.utilities.file_and_folder_operations import *\n",
    "import numpy as np"
   ]
  },
  {
   "cell_type": "markdown",
   "metadata": {},
   "source": [
    "### Dataset Setup"
   ]
  },
  {
   "cell_type": "code",
   "execution_count": 2,
   "metadata": {},
   "outputs": [],
   "source": [
    "# Dataset structure setup\n",
    "source_directory = './data/'\n",
    "destination_directory = './data/nnUNet_data/Dataset001_ISIC2018'\n",
    "\n",
    "counter = 0\n",
    "for filename in os.listdir(source_directory + 'ISIC2018_Task1-2_Training_Input'):\n",
    "    if filename.split('.')[1] == 'jpg':\n",
    "        train_file_name = 'isic_' + str(counter).zfill(4) + '_0000.png'\n",
    "        train_destination_file = os.path.join(destination_directory, 'imagesTr', train_file_name)\n",
    "        with Image.open(os.path.join(source_directory + 'ISIC2018_Task1-2_Training_Input', filename)) as img:\n",
    "            img.save(train_destination_file, 'PNG')\n",
    "        test_file_name = filename.split('.')[0] + '_segmentation.png'\n",
    "        test_destination_file = os.path.join(destination_directory, 'labelsTr', 'isic_' + str(counter).zfill(4) + '.png')\n",
    "        shutil.copy(source_directory + 'ISIC2018_Task1_Training_GroundTruth/' + test_file_name, test_destination_file)\n",
    "        counter += 1"
   ]
  },
  {
   "cell_type": "code",
   "execution_count": 8,
   "metadata": {},
   "outputs": [],
   "source": [
    "# Labels setup\n",
    "source_directory = './data/nnUNet_data/Dataset001_ISIC2018/labelsTr_255'\n",
    "destination_directory = './data/nnUNet_data/Dataset001_ISIC2018/labelsTr'\n",
    "for filename in os.listdir(source_directory):\n",
    "    label_image = Image.open(os.path.join(source_directory, filename))\n",
    "    label_array = np.array(label_image)\n",
    "    transformed_label_array = label_array // 255\n",
    "    transformed_label_image = Image.fromarray(transformed_label_array.astype(np.uint8))\n",
    "    transformed_label_image.save(os.path.join(destination_directory, filename))"
   ]
  },
  {
   "cell_type": "markdown",
   "metadata": {},
   "source": [
    "## nnUNet V2"
   ]
  },
  {
   "cell_type": "code",
   "execution_count": null,
   "metadata": {
    "vscode": {
     "languageId": "shellscript"
    }
   },
   "outputs": [],
   "source": [
    "# After setting up the dataset, run below to train the model\n",
    "export nnUNet_raw=\"/home/leo/MI_project/data/nnUNet_data\"\n",
    "export nnUNet_preprocessed=\"/home/leo/MI_project/data/nnUNet_preprocessed\"\n",
    "export nnUNet_results=\"/home/leo/MI_project/data/nnUNet_results\"\n",
    "export nnUNet_n_proc_DA=18\n",
    "\n",
    "nnUNetv2_plan_and_preprocess -d 001 --verify_dataset_integrity\n",
    "\n",
    "nnUNetv2_train 001 2d 0 --npz\n",
    "nnUNetv2_train 001 2d 1 --npz\n",
    "nnUNetv2_train 001 2d 2 --npz\n",
    "nnUNetv2_train 001 2d 3 --npz\n",
    "nnUNetv2_train 001 2d 4 --npz"
   ]
  },
  {
   "cell_type": "markdown",
   "metadata": {},
   "source": [
    "## MedSegDiff"
   ]
  },
  {
   "cell_type": "code",
   "execution_count": null,
   "metadata": {
    "vscode": {
     "languageId": "shellscript"
    }
   },
   "outputs": [],
   "source": [
    "# After setting up the dataset, run below to train the model\n",
    "python scripts/segmentation_train.py --data_name ISIC --data_dir ./data/MedSegDiff/ISIC2018_Task1-2_Training_Input --out_dir ./data/MedSegDiff/train_results --image_size 256 --num_channels 128 --class_cond False --num_res_blocks 2 --num_heads 1 --learn_sigma True --use_scale_shift_norm False --attention_resolutions 16 --diffusion_steps 1000 --noise_schedule linear --rescale_learned_sigmas False --rescale_timesteps False --lr 1e-4 --batch_size 16\n",
    "python scripts/segmentation_env.py --inp_pth ./data/MedSegDiff/ISIC2018_Task1-2_Test_Input --out_pth test_results\n"
   ]
  }
 ],
 "metadata": {
  "kernelspec": {
   "display_name": "venv",
   "language": "python",
   "name": "python3"
  },
  "language_info": {
   "codemirror_mode": {
    "name": "ipython",
    "version": 3
   },
   "file_extension": ".py",
   "mimetype": "text/x-python",
   "name": "python",
   "nbconvert_exporter": "python",
   "pygments_lexer": "ipython3",
   "version": "3.1.0"
  }
 },
 "nbformat": 4,
 "nbformat_minor": 2
}
